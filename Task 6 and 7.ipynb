{
 "cells": [
  {
   "cell_type": "markdown",
   "id": "sixth-cross",
   "metadata": {},
   "source": [
    "### Task 6"
   ]
  },
  {
   "cell_type": "code",
   "execution_count": 43,
   "id": "social-zoning",
   "metadata": {},
   "outputs": [
    {
     "data": {
      "text/plain": [
       "['J', 'K', 'H', 'H']"
      ]
     },
     "execution_count": 43,
     "metadata": {},
     "output_type": "execute_result"
    }
   ],
   "source": [
    "s = 'rgsJK sHjHrv'\n",
    "[char for char in s if char.isupper()]"
   ]
  },
  {
   "cell_type": "code",
   "execution_count": 44,
   "id": "gothic-providence",
   "metadata": {},
   "outputs": [
    {
     "data": {
      "text/plain": [
       "{'Smit': 'CSE', 'Jaya': 'Networking', 'Rayyan': 'Operating System'}"
      ]
     },
     "execution_count": 44,
     "metadata": {},
     "output_type": "execute_result"
    }
   ],
   "source": [
    "students = ['Smit', 'Jaya', 'Rayyan']\n",
    "subjects = ['CSE', 'Networking', 'Operating System']\n",
    "d={}\n",
    "for i in range(len(students)):\n",
    "    d[students[i]] = subjects[i]\n",
    "d"
   ]
  },
  {
   "cell_type": "code",
   "execution_count": 45,
   "id": "instrumental-disclosure",
   "metadata": {},
   "outputs": [
    {
     "data": {
      "text/plain": [
       "{'Smit': 'CSE', 'Jaya': 'Networking', 'Rayyan': 'Operating System'}"
      ]
     },
     "execution_count": 45,
     "metadata": {},
     "output_type": "execute_result"
    }
   ],
   "source": [
    "{students[i]:subjects[i] for i in range(len(students))}"
   ]
  },
  {
   "cell_type": "code",
   "execution_count": 46,
   "id": "expressed-pharmacology",
   "metadata": {},
   "outputs": [
    {
     "data": {
      "text/plain": [
       "{'Smit': 'CSE', 'Jaya': 'Networking', 'Rayyan': 'Operating System'}"
      ]
     },
     "execution_count": 46,
     "metadata": {},
     "output_type": "execute_result"
    }
   ],
   "source": [
    "dict(zip(students,subjects))"
   ]
  },
  {
   "cell_type": "code",
   "execution_count": 47,
   "id": "confident-scottish",
   "metadata": {},
   "outputs": [
    {
     "name": "stdout",
     "output_type": "stream",
     "text": [
      "gniniarT ddatlusnoC"
     ]
    }
   ],
   "source": [
    "class generator:\n",
    "    def __init__(self, s):\n",
    "        self.s=s\n",
    "        self.n = len(s)-1\n",
    "    def next(self):\n",
    "        cur, self.n = self.n, self.n-1\n",
    "        return self.s[cur]\n",
    "    def hasnext(self):\n",
    "        return self.n>=0\n",
    "    \n",
    "mygen = generator('Consultadd Training')\n",
    "\n",
    "while mygen.hasnext():\n",
    "    print(mygen.next(),end='')"
   ]
  },
  {
   "cell_type": "code",
   "execution_count": 48,
   "id": "egyptian-freeze",
   "metadata": {},
   "outputs": [
    {
     "name": "stdout",
     "output_type": "stream",
     "text": [
      "49\n"
     ]
    }
   ],
   "source": [
    "def square(func): \n",
    "    def inner(*args):  \n",
    "        x=args[0]\n",
    "        return x * x \n",
    "    return inner \n",
    "\n",
    "@square\n",
    "def foo(n): \n",
    "    return n\n",
    "\n",
    "print(foo(7)) "
   ]
  },
  {
   "cell_type": "markdown",
   "id": "virtual-typing",
   "metadata": {},
   "source": [
    "### Task 7"
   ]
  },
  {
   "cell_type": "markdown",
   "id": "through-facility",
   "metadata": {},
   "source": [
    "Write a program that calculates and prints the value according to the given formula:\n",
    "Q= Square root of [(2*C*D)/H]\n",
    "Following are the fixed values of C and H:\n",
    "C is 50.\n",
    "H is 30.\n",
    "D is a variable whose values should be input to your program in a comma-separated sequence."
   ]
  },
  {
   "cell_type": "code",
   "execution_count": 49,
   "id": "human-rings",
   "metadata": {
    "scrolled": false
   },
   "outputs": [
    {
     "name": "stdout",
     "output_type": "stream",
     "text": [
      "Enter values of D\n",
      "2,12,23\n",
      "Value of Q at D = 2 is 2.581988897471611\n",
      "Value of Q at D = 12 is 6.324555320336759\n",
      "Value of Q at D = 23 is 8.755950357709132\n"
     ]
    }
   ],
   "source": [
    "import math\n",
    "C = 50\n",
    "H = 30\n",
    "for D in input(\"Enter values of D\\n\").split(','):\n",
    "    print(f'Value of Q at D = {D} is {math.sqrt((2*C*int(D))/H)}')"
   ]
  },
  {
   "cell_type": "markdown",
   "id": "operational-delay",
   "metadata": {},
   "source": [
    "Define a class named Shape and its subclass Square. The Square class has an init function which\n",
    "takes length as argument. Both classes have an area function which can print the area of the shape\n",
    "where Shape’s area is 0 by default."
   ]
  },
  {
   "cell_type": "code",
   "execution_count": 50,
   "id": "finnish-specific",
   "metadata": {},
   "outputs": [
    {
     "data": {
      "text/plain": [
       "9"
      ]
     },
     "execution_count": 50,
     "metadata": {},
     "output_type": "execute_result"
    }
   ],
   "source": [
    "class Shape:\n",
    "    def area(self):\n",
    "        return 0\n",
    "    def __str__(self):\n",
    "        return 'This is a shape'\n",
    "class Square(Shape):\n",
    "    def __init__(self,l):\n",
    "        self.l = l\n",
    "    def area(self):\n",
    "        return self.l*self.l\n",
    "\n",
    "sh = Shape()\n",
    "sh.area()\n",
    "sq = Square(3)\n",
    "sq.area()"
   ]
  },
  {
   "cell_type": "markdown",
   "id": "representative-atlas",
   "metadata": {},
   "source": [
    "3. Create a class to find three elements that sum to zero from a set of n real numbers"
   ]
  },
  {
   "cell_type": "code",
   "execution_count": 54,
   "id": "considered-target",
   "metadata": {},
   "outputs": [
    {
     "data": {
      "text/plain": [
       "[{-25, 2, 23},\n",
       " {-12, -10, 22},\n",
       " {-12, 2, 10},\n",
       " {-12, 4, 8},\n",
       " {-7, -3, 10},\n",
       " {-10, 2, 8}]"
      ]
     },
     "execution_count": 54,
     "metadata": {},
     "output_type": "execute_result"
    }
   ],
   "source": [
    "class summing:\n",
    "    final_l = []\n",
    "    def rotations(self,l):\n",
    "        s=[]\n",
    "        for _ in range(len(l)):\n",
    "            x=l[0]\n",
    "            l=l[1:]\n",
    "            l.append(x)\n",
    "            s.append(l)\n",
    "        return s[::-1]\n",
    "    def foo(self,l,nums=[]):\n",
    "        for ll in self.rotations(l):\n",
    "            if len(nums)<3:\n",
    "                self.foo(ll[1:],nums+[ll[0]])\n",
    "            elif sum(nums)==0:\n",
    "                if set(nums) not in self.final_l: self.final_l.append(set(nums))\n",
    "            else: pass\n",
    "s = summing()\n",
    "s.foo([-25,-10,-7,-3,2,4,8,10,23,-12,22,-2,-12])\n",
    "s.final_l"
   ]
  },
  {
   "cell_type": "markdown",
   "id": "cellular-clarity",
   "metadata": {},
   "source": [
    "4. Create a Time class and initialize it with hours and minutes.\n",
    "Create a method addTime which should take two Time objects and add them.\n",
    "E.g.- (2 hour and 50 min)+(1 hr and 20 min) is (4 hr and 10 min)\n",
    "Create another method displayTime which should print the time.\n",
    "Also create a method displayMinute which should display the total minutes in the Time.\n",
    "E.g.- (1 hr 2 min) should display 62 minute."
   ]
  },
  {
   "cell_type": "code",
   "execution_count": 52,
   "id": "competitive-retrieval",
   "metadata": {},
   "outputs": [
    {
     "name": "stdout",
     "output_type": "stream",
     "text": [
      "displayMinute: 62\n",
      "displayTime: 1 hr and 2 min\n",
      "addTime: 4 hr and 10 min\n"
     ]
    }
   ],
   "source": [
    "class time:\n",
    "    def __init__(self,hour,minute):\n",
    "        self.hour = hour\n",
    "        self.minute = minute\n",
    "    def displayMinute(self):\n",
    "        return self.hour*60+self.minute\n",
    "    def addTime(self,time2):\n",
    "        total = self.displayMinute()+time2.displayMinute()\n",
    "        return f'{total//60} hr and {total%60} min'\n",
    "    def displayTime(self):\n",
    "        return f'{self.hour} hr and {self.minute} min'\n",
    "print('displayMinute:',time(1,2).displayMinute())\n",
    "print('displayTime:',time(1,2).displayTime())\n",
    "print('addTime:',time(2,50).addTime(time(1,20)))"
   ]
  },
  {
   "cell_type": "markdown",
   "id": "found-reducing",
   "metadata": {},
   "source": [
    "5. Write a Person class with an instance variable “age” and a constructor that takes an integer as a\n",
    "parameter. The constructor must assign the integer value to the age variable after confirming the\n",
    "argument passed is not negative; if a negative argument is passed then the constructor should set\n",
    "age to 0 and print “Age is not valid, setting age to 0”. In addition, you must write the following instance\n",
    "methods:\n",
    "yearPasses() should increase age by the integer value that you are passing inside the function.\n",
    "amIOld() should perform the following conditional actions:\n",
    "If age is between 0 and <13, print “You are young”.\n",
    "If age is >=13 and <=19 , print “You are a teenager”.\n",
    "Otherwise, print “You are old”."
   ]
  },
  {
   "cell_type": "code",
   "execution_count": 53,
   "id": "foster-captain",
   "metadata": {},
   "outputs": [
    {
     "data": {
      "text/plain": [
       "'You are a teenager'"
      ]
     },
     "execution_count": 53,
     "metadata": {},
     "output_type": "execute_result"
    }
   ],
   "source": [
    "class Person:\n",
    "    def __init__(self,age):\n",
    "        if age<0:\n",
    "            print('Age is not valid, setting age to 0')\n",
    "            self.age = 0\n",
    "        else: self.age = age\n",
    "    def yearPasses(self,years):\n",
    "        self.age+=years\n",
    "    def amIOld(self):\n",
    "        if self.age<13: return 'You are young'\n",
    "        if 13<=self.age<=19: return 'You are a teenager'\n",
    "        return 'You are old'\n",
    "p=Person(12)\n",
    "p.yearPasses(1)\n",
    "p.amIOld()"
   ]
  }
 ],
 "metadata": {
  "kernelspec": {
   "display_name": "Python 3",
   "language": "python",
   "name": "python3"
  },
  "language_info": {
   "codemirror_mode": {
    "name": "ipython",
    "version": 3
   },
   "file_extension": ".py",
   "mimetype": "text/x-python",
   "name": "python",
   "nbconvert_exporter": "python",
   "pygments_lexer": "ipython3",
   "version": "3.8.5"
  }
 },
 "nbformat": 4,
 "nbformat_minor": 5
}
